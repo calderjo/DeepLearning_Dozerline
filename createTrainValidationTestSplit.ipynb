{
 "cells": [
  {
   "cell_type": "code",
   "execution_count": 16,
   "metadata": {
    "pycharm": {
     "name": "#%%\n"
    }
   },
   "outputs": [],
   "source": [
    "import os\n",
    "import shutil\n",
    "\n",
    "import matplotlib.pyplot as plt\n",
    "import numpy as np\n",
    "\n",
    "from sklearn import model_selection\n",
    "\n",
    "from PIL import Image, ImageOps"
   ]
  },
  {
   "cell_type": "code",
   "execution_count": 17,
   "metadata": {
    "pycharm": {
     "name": "#%%\n"
    }
   },
   "outputs": [],
   "source": [
    "# Since export image chips from arcgis learn create other files in addition to chip\n",
    "# and its mask. We must filter them into a relevant folder"
   ]
  },
  {
   "cell_type": "code",
   "execution_count": 18,
   "metadata": {
    "pycharm": {
     "name": "#%%\n"
    }
   },
   "outputs": [],
   "source": [
    "# this is the directory of our new dataset\n",
    "destinationBase = \"C:/Users/jonat/Documents/DeeplearningDozerlineNotebook/dataset/\"\n",
    "\n",
    "# this is the directory of our image chip\n",
    "sourceBase =  \"C:/Users/jonat/Documents/Dataset/DozerLine/DozerLineImagery/ImagesChips/dozerLine2017ImageChipsPNG/\""
   ]
  },
  {
   "cell_type": "code",
   "execution_count": 19,
   "metadata": {
    "pycharm": {
     "name": "#%%\n"
    }
   },
   "outputs": [],
   "source": [
    "# This small algo will move all images with tif ext - our image chip - to the new directory\n",
    "sourcePathImageChip = sourceBase + \"images/\"\n",
    "sourceFilesImageChip = os.listdir(sourcePathImageChip)\n",
    "\n",
    "destinationPathImageChips = destinationBase + \"images/\"\n",
    "\n",
    "for file in sourceFilesImageChip:\n",
    "   if file.endswith('.png'):\n",
    "       shutil.move(os.path.join(sourcePathImageChip,file), os.path.join(destinationPathImageChips,file))"
   ]
  },
  {
   "cell_type": "code",
   "execution_count": 20,
   "metadata": {
    "pycharm": {
     "name": "#%%\n"
    }
   },
   "outputs": [],
   "source": [
    "# This small algo will move all labels with tif ext - our image chip - to the new directory\n",
    "sourcePathLabel = sourceBase + \"labels/\"\n",
    "sourceFilesLabel = os.listdir(sourcePathLabel)\n",
    "\n",
    "destinationPathLabel = destinationBase + \"labels/\"\n",
    "\n",
    "for file in sourceFilesLabel:\n",
    "   if file.endswith('.png'):\n",
    "       shutil.move(os.path.join(sourcePathLabel,file), os.path.join(destinationPathLabel,file))"
   ]
  },
  {
   "cell_type": "code",
   "execution_count": 35,
   "metadata": {
    "pycharm": {
     "name": "#%%\n"
    }
   },
   "outputs": [],
   "source": [
    "# this section of the notebook will convert the image chips into numpy array\n",
    "all_images = []  # this list will hold numpy array of our image chips\n",
    "imageNames = os.listdir(destinationPathImageChips)\n",
    "imageNames = sorted(imageNames)\n",
    "\n",
    "for imageChip in imageNames:\n",
    "  im = Image.open(destinationPathImageChips+imageChip)\n",
    "  gray_img = ImageOps.grayscale(im)\n",
    "  arr = np.asarray(gray_img)\n",
    "  arr_resize = arr.reshape([572, 572, 1])\n",
    "  all_images.append(arr_resize)\n",
    "\n",
    "dozerLine_ImgData_np = np.array(all_images)"
   ]
  },
  {
   "cell_type": "code",
   "execution_count": 36,
   "outputs": [],
   "source": [
    "# this section of the notebook will convert the image chips into numpy array\n",
    "all_masks = []  # this list will hold numpy array of our image chips\n",
    "maskNames = os.listdir(destinationPathLabel)  # get mask file name\n",
    "maskNames = sorted(maskNames)\n",
    "\n",
    "for mask in maskNames:\n",
    "  im = Image.open(destinationPathLabel+mask)\n",
    "  gray_img = ImageOps.grayscale(im)\n",
    "  arr = np.asarray(gray_img)\n",
    "  arr_resize = arr.reshape([572, 572, 1])\n",
    "  all_masks.append(arr_resize)\n",
    "\n",
    "dozerLine_ImgMask_np = numpy.asarray(all_masks)"
   ],
   "metadata": {
    "collapsed": false,
    "pycharm": {
     "name": "#%%\n"
    }
   }
  },
  {
   "cell_type": "code",
   "execution_count": 44,
   "metadata": {
    "pycharm": {
     "name": "#%%\n"
    }
   },
   "outputs": [],
   "source": [
    "train_ratio = 0.70\n",
    "validation_ratio = 0.2\n",
    "test_ratio = 0.10"
   ]
  },
  {
   "cell_type": "code",
   "execution_count": 45,
   "outputs": [],
   "source": [
    "# first split creates a train set with 70 percent of the data\n",
    "trainData, testValData, trainLabel, testValLabel = model_selection.train_test_split(dozerLine_ImgData_np,\n",
    "                                                                                    dozerLine_ImgMask_np,\n",
    "                                                                                    test_size= 1 - train_ratio,\n",
    "                                                                                    random_state=479,\n",
    "                                                                                    shuffle = True\n",
    "                                                                                    )"
   ],
   "metadata": {
    "collapsed": false,
    "pycharm": {
     "name": "#%%\n"
    }
   }
  },
  {
   "cell_type": "code",
   "execution_count": 47,
   "outputs": [],
   "source": [
    "# first split creates a val set with 20 percent of data and a test set with 10 percent of the data\n",
    "valData, testData, valLabel, testLabel = model_selection.train_test_split(testValData,\n",
    "                                                                          testValLabel,\n",
    "                                                                          test_size = test_ratio/(test_ratio+validation_ratio),\n",
    "                                                                          random_state=479,\n",
    "                                                                          shuffle = True\n",
    "                                                                           )"
   ],
   "metadata": {
    "collapsed": false,
    "pycharm": {
     "name": "#%%\n"
    }
   }
  }
 ],
 "metadata": {
  "kernelspec": {
   "display_name": "PyCharm (DeeplearningDozerlineNotebook)",
   "language": "python",
   "name": "pycharm-4ce3dbfa"
  },
  "language_info": {
   "codemirror_mode": {
    "name": "ipython",
    "version": 3
   },
   "file_extension": ".py",
   "mimetype": "text/x-python",
   "name": "python",
   "nbconvert_exporter": "python",
   "pygments_lexer": "ipython3",
   "version": "3.7.11"
  }
 },
 "nbformat": 4,
 "nbformat_minor": 1
}