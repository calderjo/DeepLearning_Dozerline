{
 "cells": [
  {
   "cell_type": "code",
   "execution_count": 11,
   "metadata": {},
   "outputs": [],
   "source": [
    "import arcgis\n",
    "from arcgis import gis"
   ]
  },
  {
   "cell_type": "code",
   "execution_count": 12,
   "metadata": {
    "pycharm": {
     "name": "#%%\n"
    }
   },
   "outputs": [
    {
     "name": "stdout",
     "output_type": "stream",
     "text": [
      "Please sign in to your GIS and paste the code that is obtained below.\n",
      "If a web browser does not automatically open, please navigate to the URL below yourself instead.\n",
      "Opening web browser to navigate to: https://sonoma.maps.arcgis.com/sharing/rest//oauth2/authorize?response_type=code&client_id=va8Vl8jqtLUXxEY7&redirect_uri=urn%3Aietf%3Awg%3Aoauth%3A2.0%3Aoob&state=ZiNPfTR5w87BmwsdOn7ANjNNMnemla\n"
     ]
    },
    {
     "name": "stderr",
     "output_type": "stream",
     "text": [
      "C:\\Users\\jonat\\miniconda3\\envs\\gis-enviro\\lib\\site-packages\\urllib3\\connectionpool.py:1020: InsecureRequestWarning: Unverified HTTPS request is being made to host 'sonoma.maps.arcgis.com'. Adding certificate verification is strongly advised. See: https://urllib3.readthedocs.io/en/1.26.x/advanced-usage.html#ssl-warnings\n",
      "  InsecureRequestWarning,\n"
     ]
    },
    {
     "name": "stdout",
     "output_type": "stream",
     "text": [
      "Successfully logged in as: calderjo_sonoma\n"
     ]
    }
   ],
   "source": [
    "#signing in via arcgis pro\n",
    "#Insert your client id in the line below. Running this cell will let you select \"Sonoma State University\" and\n",
    "#then open SSU SSO login screen. Copy paste the code you get below and press Enter.\n",
    "#You may have to repeat this procedure to get around the \"InsecureRequestWarning\" that you may get\n",
    "gis = gis.GIS(\"https://sonoma.maps.arcgis.com\", client_id=\"va8Vl8jqtLUXxEY7\")\n",
    "print(\"Successfully logged in as: \" + gis.properties.user.username)"
   ]
  },
  {
   "cell_type": "code",
   "execution_count": null,
   "metadata": {
    "pycharm": {
     "name": "#%%"
    }
   },
   "outputs": [],
   "source": []
  }
 ],
 "metadata": {
  "kernelspec": {
   "display_name": "PyCharm (DeeplearningDozerlineNotebook)",
   "language": "python",
   "name": "pycharm-4ce3dbfa"
  },
  "language_info": {
   "codemirror_mode": {
    "name": "ipython",
    "version": 3
   },
   "file_extension": ".py",
   "mimetype": "text/x-python",
   "name": "python",
   "nbconvert_exporter": "python",
   "pygments_lexer": "ipython3",
   "version": "3.7.11"
  }
 },
 "nbformat": 4,
 "nbformat_minor": 1
}