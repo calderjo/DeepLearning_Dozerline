{
 "cells": [
  {
   "cell_type": "markdown",
   "source": [
    "# Dozer line Extraction from Aerial Imagery"
   ],
   "metadata": {
    "collapsed": false
   }
  },
  {
   "cell_type": "markdown",
   "source": [
    "### Dozer Line Image Dataset created through using:\n",
    "* [Sonoma Post 2017 Fire Imagery](https://sonomaopenspace.maps.arcgis.com/home/item.html?id=5d017d6f1f09469f8a00eb37a303e1fa)\n",
    "* GPS Data of Known Dozer Line Location"
   ],
   "metadata": {
    "collapsed": false
   }
  },
  {
   "cell_type": "markdown",
   "source": [
    "### Data Split of Dozer Line Image Dataset"
   ],
   "metadata": {
    "collapsed": false
   }
  }
 ],
 "metadata": {
  "kernelspec": {
   "name": "pycharm-4ce3dbfa",
   "language": "python",
   "display_name": "PyCharm (DeeplearningDozerlineNotebook)"
  },
  "language_info": {
   "codemirror_mode": {
    "name": "ipython",
    "version": 2
   },
   "file_extension": ".py",
   "mimetype": "text/x-python",
   "name": "python",
   "nbconvert_exporter": "python",
   "pygments_lexer": "ipython2",
   "version": "2.7.6"
  }
 },
 "nbformat": 4,
 "nbformat_minor": 0
}